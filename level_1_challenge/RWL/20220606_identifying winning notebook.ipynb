{
 "cells": [
  {
   "cell_type": "code",
   "execution_count": 1,
   "id": "1e436681-3eff-480b-a95c-298caf5d07e8",
   "metadata": {},
   "outputs": [],
   "source": [
    "import pandas as pd"
   ]
  },
  {
   "cell_type": "code",
   "execution_count": 3,
   "id": "21cd0537-7693-49bb-8ea9-3872334232d9",
   "metadata": {},
   "outputs": [],
   "source": [
    "df_winning = pd.read_csv('winning_output_to_reconstruct.csv')\n",
    "df_trial = pd.read_csv('all_BB_background_Frogs_robs_metrics_CLF.csv')"
   ]
  },
  {
   "cell_type": "code",
   "execution_count": 4,
   "id": "f2620a5a-8d87-481b-981d-81982a412e3d",
   "metadata": {},
   "outputs": [
    {
     "data": {
      "text/html": [
       "<div>\n",
       "<style scoped>\n",
       "    .dataframe tbody tr th:only-of-type {\n",
       "        vertical-align: middle;\n",
       "    }\n",
       "\n",
       "    .dataframe tbody tr th {\n",
       "        vertical-align: top;\n",
       "    }\n",
       "\n",
       "    .dataframe thead th {\n",
       "        text-align: right;\n",
       "    }\n",
       "</style>\n",
       "<table border=\"1\" class=\"dataframe\">\n",
       "  <thead>\n",
       "    <tr style=\"text-align: right;\">\n",
       "      <th></th>\n",
       "      <th>id</th>\n",
       "      <th>decimalLatitude</th>\n",
       "      <th>decimalLongitude</th>\n",
       "      <th>occurrenceStatus</th>\n",
       "    </tr>\n",
       "  </thead>\n",
       "  <tbody>\n",
       "    <tr>\n",
       "      <th>0</th>\n",
       "      <td>True</td>\n",
       "      <td>True</td>\n",
       "      <td>True</td>\n",
       "      <td>True</td>\n",
       "    </tr>\n",
       "    <tr>\n",
       "      <th>1</th>\n",
       "      <td>True</td>\n",
       "      <td>True</td>\n",
       "      <td>True</td>\n",
       "      <td>True</td>\n",
       "    </tr>\n",
       "    <tr>\n",
       "      <th>2</th>\n",
       "      <td>True</td>\n",
       "      <td>True</td>\n",
       "      <td>True</td>\n",
       "      <td>True</td>\n",
       "    </tr>\n",
       "    <tr>\n",
       "      <th>3</th>\n",
       "      <td>True</td>\n",
       "      <td>True</td>\n",
       "      <td>True</td>\n",
       "      <td>True</td>\n",
       "    </tr>\n",
       "    <tr>\n",
       "      <th>4</th>\n",
       "      <td>True</td>\n",
       "      <td>True</td>\n",
       "      <td>True</td>\n",
       "      <td>True</td>\n",
       "    </tr>\n",
       "    <tr>\n",
       "      <th>...</th>\n",
       "      <td>...</td>\n",
       "      <td>...</td>\n",
       "      <td>...</td>\n",
       "      <td>...</td>\n",
       "    </tr>\n",
       "    <tr>\n",
       "      <th>4046</th>\n",
       "      <td>True</td>\n",
       "      <td>True</td>\n",
       "      <td>True</td>\n",
       "      <td>True</td>\n",
       "    </tr>\n",
       "    <tr>\n",
       "      <th>4047</th>\n",
       "      <td>True</td>\n",
       "      <td>True</td>\n",
       "      <td>True</td>\n",
       "      <td>True</td>\n",
       "    </tr>\n",
       "    <tr>\n",
       "      <th>4048</th>\n",
       "      <td>True</td>\n",
       "      <td>True</td>\n",
       "      <td>True</td>\n",
       "      <td>True</td>\n",
       "    </tr>\n",
       "    <tr>\n",
       "      <th>4049</th>\n",
       "      <td>True</td>\n",
       "      <td>True</td>\n",
       "      <td>True</td>\n",
       "      <td>True</td>\n",
       "    </tr>\n",
       "    <tr>\n",
       "      <th>4050</th>\n",
       "      <td>True</td>\n",
       "      <td>True</td>\n",
       "      <td>True</td>\n",
       "      <td>True</td>\n",
       "    </tr>\n",
       "  </tbody>\n",
       "</table>\n",
       "<p>4051 rows × 4 columns</p>\n",
       "</div>"
      ],
      "text/plain": [
       "        id  decimalLatitude  decimalLongitude  occurrenceStatus\n",
       "0     True             True              True              True\n",
       "1     True             True              True              True\n",
       "2     True             True              True              True\n",
       "3     True             True              True              True\n",
       "4     True             True              True              True\n",
       "...    ...              ...               ...               ...\n",
       "4046  True             True              True              True\n",
       "4047  True             True              True              True\n",
       "4048  True             True              True              True\n",
       "4049  True             True              True              True\n",
       "4050  True             True              True              True\n",
       "\n",
       "[4051 rows x 4 columns]"
      ]
     },
     "execution_count": 4,
     "metadata": {},
     "output_type": "execute_result"
    }
   ],
   "source": [
    "df_winning == df_trial"
   ]
  },
  {
   "cell_type": "code",
   "execution_count": 5,
   "id": "1724dcf2-febd-4039-a70d-6877339c6dd5",
   "metadata": {},
   "outputs": [
    {
     "data": {
      "text/plain": [
       "588"
      ]
     },
     "execution_count": 5,
     "metadata": {},
     "output_type": "execute_result"
    }
   ],
   "source": [
    "(df_trial != df_winning)['occurrenceStatus'].sum()"
   ]
  },
  {
   "cell_type": "code",
   "execution_count": 6,
   "id": "c1d05f7b-5dfc-4fed-be32-c544e0f7c3e8",
   "metadata": {},
   "outputs": [],
   "source": [
    "import os\n",
    "import glob"
   ]
  },
  {
   "cell_type": "code",
   "execution_count": 8,
   "id": "05072ce1-bbcf-4cd3-bed8-2d42ce66e9da",
   "metadata": {},
   "outputs": [],
   "source": [
    "csvs = glob.glob('*.csv')"
   ]
  },
  {
   "cell_type": "code",
   "execution_count": 11,
   "id": "752755b2-78d3-4b2d-8f22-8496bff95295",
   "metadata": {},
   "outputs": [],
   "source": [
    "differences_list = []\n",
    "for file in csvs:\n",
    "    df_trial = pd.read_csv(file)\n",
    "    differences = (df_trial != df_winning)['occurrenceStatus'].sum()\n",
    "    differences_list.append([differences, file])"
   ]
  },
  {
   "cell_type": "code",
   "execution_count": 12,
   "id": "3a391e65-7292-431a-8b82-3ebbbd2f599c",
   "metadata": {},
   "outputs": [
    {
     "data": {
      "text/plain": [
       "[[588, 'all_BB_background_Frogs_robs_metrics_CLF.csv'],\n",
       " [512, 'all_BB_downsampling_1_QT_norm_transform.csv'],\n",
       " [669, 'all_BB_downsampling_1_QT_norm_transform_06.csv'],\n",
       " [412, 'all_BB_downsampling_1_robs_metrics_CLF.csv'],\n",
       " [384, 'all_BB_downsampling_month_metrics_CLF.csv'],\n",
       " [1239, 'challenge_1_RWL_noise.csv'],\n",
       " [2525, 'challenge_1_RWL_preprocess.csv'],\n",
       " [2686, 'challenge_1_RWL_std.csv'],\n",
       " [632, 'challenge_1_submission_all_BB_downsampling_1_QT_transform.csv'],\n",
       " [516, 'challenge_1_submission_all_BB_downsampling_1_robs_metrics.csv'],\n",
       " [578, 'challenge_1_submission_all_BB_downsampling_1_robs_metrics_06.csv'],\n",
       " [733, 'challenge_1_submission_all_BB_no_downsampling.csv'],\n",
       " [625, 'challenge_1_submission_all_BB_no_downsampling_robs_metrics.csv'],\n",
       " [1110, 'challenge_1_submission_benchmark.csv'],\n",
       " [0, 'challenge_1_submission_LX19_RWL_metrics-opt.csv'],\n",
       " [165, 'challenge_1_submission_LX19_RWL_metrics_added-bboxs.csv'],\n",
       " [161, 'challenge_1_submission_LX19_RWL_metrics_added.csv'],\n",
       " [1087, 'challenge_1_submission_RWLexp1.csv'],\n",
       " [1459, 'challenge_1_submission_template.csv'],\n",
       " [255, 'extra_BB_downsampling_month_metrics_CLF.csv'],\n",
       " [1110, 'RWL_zero0.csv'],\n",
       " [1396, 'RWL_zero1.csv'],\n",
       " [1617, 'RWL_zero2.csv'],\n",
       " [1182, 'RWL_zero3.csv'],\n",
       " [594, 'RWL_zero4.csv'],\n",
       " [0, 'winning_output_to_reconstruct.csv']]"
      ]
     },
     "execution_count": 12,
     "metadata": {},
     "output_type": "execute_result"
    }
   ],
   "source": [
    "differences_list"
   ]
  },
  {
   "cell_type": "code",
   "execution_count": 13,
   "id": "a5601f7a-bb15-44cc-b3e8-28872285e173",
   "metadata": {},
   "outputs": [
    {
     "data": {
      "text/plain": [
       "['..\\\\challenge_1_submission_benchmark.csv',\n",
       " '..\\\\challenge_1_submission_LX_10.csv',\n",
       " '..\\\\challenge_1_submission_LX_11.csv',\n",
       " '..\\\\challenge_1_submission_LX_12.csv',\n",
       " '..\\\\challenge_1_submission_LX_13.csv',\n",
       " '..\\\\challenge_1_submission_LX_14.csv',\n",
       " '..\\\\challenge_1_submission_LX_15.csv',\n",
       " '..\\\\challenge_1_submission_LX_16.csv',\n",
       " '..\\\\challenge_1_submission_LX_17.csv',\n",
       " '..\\\\challenge_1_submission_LX_18.csv',\n",
       " '..\\\\challenge_1_submission_LX_19.csv',\n",
       " '..\\\\challenge_1_submission_LX_2.csv',\n",
       " '..\\\\challenge_1_submission_LX_20.csv',\n",
       " '..\\\\challenge_1_submission_LX_21.csv',\n",
       " '..\\\\challenge_1_submission_LX_22.csv',\n",
       " '..\\\\challenge_1_submission_LX_23.csv',\n",
       " '..\\\\challenge_1_submission_LX_24.csv',\n",
       " '..\\\\challenge_1_submission_LX_27.csv',\n",
       " '..\\\\challenge_1_submission_LX_3.csv',\n",
       " '..\\\\challenge_1_submission_LX_3b.csv',\n",
       " '..\\\\challenge_1_submission_LX_4.csv',\n",
       " '..\\\\challenge_1_submission_LX_5.csv',\n",
       " '..\\\\challenge_1_submission_LX_6.csv',\n",
       " '..\\\\challenge_1_submission_LX_7.csv',\n",
       " '..\\\\challenge_1_submission_LX_8.csv',\n",
       " '..\\\\challenge_1_submission_LX_9.csv',\n",
       " '..\\\\challenge_1_submission_template.csv']"
      ]
     },
     "execution_count": 13,
     "metadata": {},
     "output_type": "execute_result"
    }
   ],
   "source": [
    "LX_csvs = glob.glob('..//*.csv')\n",
    "LX_csvs"
   ]
  },
  {
   "cell_type": "code",
   "execution_count": 14,
   "id": "5b8706dd-6324-4f3f-8e61-bc527033926a",
   "metadata": {},
   "outputs": [],
   "source": [
    "differences_list = []\n",
    "for file in LX_csvs:\n",
    "    df_trial = pd.read_csv(file)\n",
    "    differences = (df_trial != df_winning)['occurrenceStatus'].sum()\n",
    "    differences_list.append([differences, file])"
   ]
  },
  {
   "cell_type": "code",
   "execution_count": 15,
   "id": "a77b4872-2c43-40d8-9de4-4539ac13f4c0",
   "metadata": {},
   "outputs": [
    {
     "data": {
      "text/plain": [
       "[[1110, '..\\\\challenge_1_submission_benchmark.csv'],\n",
       " [496, '..\\\\challenge_1_submission_LX_10.csv'],\n",
       " [496, '..\\\\challenge_1_submission_LX_11.csv'],\n",
       " [491, '..\\\\challenge_1_submission_LX_12.csv'],\n",
       " [491, '..\\\\challenge_1_submission_LX_13.csv'],\n",
       " [178, '..\\\\challenge_1_submission_LX_14.csv'],\n",
       " [323, '..\\\\challenge_1_submission_LX_15.csv'],\n",
       " [491, '..\\\\challenge_1_submission_LX_16.csv'],\n",
       " [320, '..\\\\challenge_1_submission_LX_17.csv'],\n",
       " [359, '..\\\\challenge_1_submission_LX_18.csv'],\n",
       " [148, '..\\\\challenge_1_submission_LX_19.csv'],\n",
       " [2474, '..\\\\challenge_1_submission_LX_2.csv'],\n",
       " [170, '..\\\\challenge_1_submission_LX_20.csv'],\n",
       " [270, '..\\\\challenge_1_submission_LX_21.csv'],\n",
       " [163, '..\\\\challenge_1_submission_LX_22.csv'],\n",
       " [248, '..\\\\challenge_1_submission_LX_23.csv'],\n",
       " [230, '..\\\\challenge_1_submission_LX_24.csv'],\n",
       " [226, '..\\\\challenge_1_submission_LX_27.csv'],\n",
       " [652, '..\\\\challenge_1_submission_LX_3.csv'],\n",
       " [649, '..\\\\challenge_1_submission_LX_3b.csv'],\n",
       " [467, '..\\\\challenge_1_submission_LX_4.csv'],\n",
       " [1065, '..\\\\challenge_1_submission_LX_5.csv'],\n",
       " [685, '..\\\\challenge_1_submission_LX_6.csv'],\n",
       " [459, '..\\\\challenge_1_submission_LX_7.csv'],\n",
       " [552, '..\\\\challenge_1_submission_LX_8.csv'],\n",
       " [461, '..\\\\challenge_1_submission_LX_9.csv'],\n",
       " [1459, '..\\\\challenge_1_submission_template.csv']]"
      ]
     },
     "execution_count": 15,
     "metadata": {},
     "output_type": "execute_result"
    }
   ],
   "source": [
    "differences_list"
   ]
  },
  {
   "cell_type": "code",
   "execution_count": null,
   "id": "9f645b9b-9473-44c4-832b-e0dfb36d1cf7",
   "metadata": {},
   "outputs": [],
   "source": []
  }
 ],
 "metadata": {
  "kernelspec": {
   "display_name": "Python 3 (ipykernel)",
   "language": "python",
   "name": "python3"
  },
  "language_info": {
   "codemirror_mode": {
    "name": "ipython",
    "version": 3
   },
   "file_extension": ".py",
   "mimetype": "text/x-python",
   "name": "python",
   "nbconvert_exporter": "python",
   "pygments_lexer": "ipython3",
   "version": "3.8.12"
  }
 },
 "nbformat": 4,
 "nbformat_minor": 5
}
